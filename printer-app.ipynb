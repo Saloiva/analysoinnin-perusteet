{
 "cells": [
  {
   "cell_type": "code",
   "execution_count": 8,
   "metadata": {},
   "outputs": [],
   "source": [
    "creator = \"oiva\"\n",
    "number1 = 5\n",
    "number2 = 3\n",
    "multiplication = number1 * number2\n",
    "addition = number1 + number2\n",
    "division = number1 / number2\n",
    "substraction = number1 - number2"
   ]
  },
  {
   "cell_type": "code",
   "execution_count": null,
   "metadata": {},
   "outputs": [
    {
     "name": "stdout",
     "output_type": "stream",
     "text": [
      "Printer App\n",
      "This app is made by: oiva\n",
      "The value of number1 is 5.\n",
      "The value of number2 is 3.\n",
      "5 * 3 = 15\n",
      "5 + 3 = 8\n",
      "5 / 3 = 1.6666666666666667\n",
      "5 - 3 = 2\n"
     ]
    }
   ],
   "source": [
    "print (\"Printer App\")\n",
    "print (f\"This app is made by: {creator}\")\n",
    "print (f\"The value of number1 is {number1}.\")\n",
    "print (f\"The value of number2 is {number2}.\")\n",
    "print (f\"{number1} * {number2} = {multiplication}\")\n",
    "print (f\"{number1} + {number2} = {addition}\")\n",
    "print (f\"{number1} / {number2} = {division}\")\n",
    "print (f\"{number1} - {number2} = {substraction}\")"
   ]
  }
 ],
 "metadata": {
  "kernelspec": {
   "display_name": "Python (my_venv)",
   "language": "python",
   "name": "my_venv"
  },
  "language_info": {
   "codemirror_mode": {
    "name": "ipython",
    "version": 3
   },
   "file_extension": ".py",
   "mimetype": "text/x-python",
   "name": "python",
   "nbconvert_exporter": "python",
   "pygments_lexer": "ipython3",
   "version": "3.9.6"
  }
 },
 "nbformat": 4,
 "nbformat_minor": 2
}
