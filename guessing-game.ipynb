{
 "cells": [
  {
   "cell_type": "code",
   "execution_count": 1,
   "metadata": {},
   "outputs": [
    {
     "name": "stdout",
     "output_type": "stream",
     "text": [
      "Congratulations! The right answer was Tommi.\n",
      "Guesses: 1\n"
     ]
    }
   ],
   "source": [
    "def guessing_game():\n",
    "    correct_name = \"Tommi\"\n",
    "    attempts = 0\n",
    "    name_length = len(correct_name)\n",
    "\n",
    "    while True:\n",
    "        # Ask player to guess the name\n",
    "\n",
    "        guess = input(\"Please, guess my name: \")\n",
    "        attempts += 1\n",
    "\n",
    "        # If the answer is right\n",
    "\n",
    "        if guess.lower() == correct_name.lower():\n",
    "            print(f\"Congratulations! The right answer was {correct_name}.\")\n",
    "            print(f\"Guesses: {attempts}\")\n",
    "            break  \n",
    "\n",
    "        # If not\n",
    "\n",
    "        else:\n",
    "            if attempts <= name_length:\n",
    "                print(f\"Here's a hint: {correct_name[attempts-1]}\")\n",
    "            else: \n",
    "                print(\"You've seen all the letters. Better luck next time!\")\n",
    "\n",
    "        # Ask if the player wants to quit\n",
    "\n",
    "        vastaus = input(\"Do you want to quit (y/n)? \").lower()\n",
    "        if vastaus == \"y\":\n",
    "            print(\"Thanks for playing!\")\n",
    "            break\n",
    "        elif vastaus == \"n\":\n",
    "            continue\n",
    "        else:\n",
    "\n",
    "        # If the input is invalid\n",
    "\n",
    "            print(\"Invalid input. Please enter 'y' or 'n'.\")\n",
    "\n",
    "# Function call\n",
    "\n",
    "guessing_game()"
   ]
  }
 ],
 "metadata": {
  "kernelspec": {
   "display_name": "Python (my_venv)",
   "language": "python",
   "name": "my_venv"
  },
  "language_info": {
   "codemirror_mode": {
    "name": "ipython",
    "version": 3
   },
   "file_extension": ".py",
   "mimetype": "text/x-python",
   "name": "python",
   "nbconvert_exporter": "python",
   "pygments_lexer": "ipython3",
   "version": "3.9.6"
  }
 },
 "nbformat": 4,
 "nbformat_minor": 2
}
