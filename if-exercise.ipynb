{
 "cells": [
  {
   "cell_type": "code",
   "execution_count": 181,
   "metadata": {},
   "outputs": [],
   "source": [
    "number1 = 2\n",
    "number2 = 2\n",
    "number3 = 1\n",
    "name1 = \"Daniel\"\n",
    "name2 = \"Daiel\"\n",
    "name3 = \"Daniel\""
   ]
  },
  {
   "cell_type": "code",
   "execution_count": 99,
   "metadata": {},
   "outputs": [
    {
     "name": "stdout",
     "output_type": "stream",
     "text": [
      "The numbers are equal.\n"
     ]
    }
   ],
   "source": [
    "#1a\n",
    "if number1 == number2:\n",
    "    print(\"The numbers are equal.\")"
   ]
  },
  {
   "cell_type": "code",
   "execution_count": 106,
   "metadata": {},
   "outputs": [],
   "source": [
    "#1b\n",
    "if number1 > number2:\n",
    "    print(f\"Number1 is greater than number2.\")"
   ]
  },
  {
   "cell_type": "code",
   "execution_count": 111,
   "metadata": {},
   "outputs": [
    {
     "name": "stdout",
     "output_type": "stream",
     "text": [
      "Number1 is greater than number2\n"
     ]
    }
   ],
   "source": [
    "#1c\n",
    "if number1 == number2:\n",
    "    print(\"The numbers are equal.\")\n",
    "elif number1 > number2:\n",
    "    print(\"Number1 is greater than number2\")"
   ]
  },
  {
   "cell_type": "code",
   "execution_count": 116,
   "metadata": {},
   "outputs": [],
   "source": [
    "#1d\n",
    "if number1 != number2:\n",
    "    print(f\"Number1 is NOT equal to number 2.\")"
   ]
  },
  {
   "cell_type": "code",
   "execution_count": 126,
   "metadata": {},
   "outputs": [],
   "source": [
    "#2a\n",
    "if number1 == number2 == number3:\n",
    "    print(\"All numbers are equal.\")"
   ]
  },
  {
   "cell_type": "code",
   "execution_count": 136,
   "metadata": {},
   "outputs": [
    {
     "name": "stdout",
     "output_type": "stream",
     "text": [
      "Number1 and number2 are equal.\n"
     ]
    }
   ],
   "source": [
    "#2b\n",
    "if number1 == number2:\n",
    "    print(\"Number1 and number2 are equal.\")\n",
    "elif number2 == number3:\n",
    "    print(\"Number2 and number3 are equal.\")"
   ]
  },
  {
   "cell_type": "code",
   "execution_count": 142,
   "metadata": {},
   "outputs": [],
   "source": [
    "#2c\n",
    "if number1 > number2 and number3:\n",
    "    print(f\"Number1 is greater than number2 and number3.\")"
   ]
  },
  {
   "cell_type": "code",
   "execution_count": 151,
   "metadata": {},
   "outputs": [
    {
     "name": "stdout",
     "output_type": "stream",
     "text": [
      "Number2 is greater than number3.\n"
     ]
    }
   ],
   "source": [
    "#2d\n",
    "if number1 > number2:\n",
    "    print(f\"Number1 is greater than number2.\")\n",
    "elif number2 > number3:\n",
    "        print(f\"Number2 is greater than number3.\")"
   ]
  },
  {
   "cell_type": "code",
   "execution_count": 154,
   "metadata": {},
   "outputs": [
    {
     "name": "stdout",
     "output_type": "stream",
     "text": [
      "Number1 and number2 are equal.\n"
     ]
    }
   ],
   "source": [
    "#2e\n",
    "if number1 == number2:\n",
    "    print(\"Number1 and number2 are equal.\")\n",
    "elif number1 == number3:\n",
    "        print(\"Number1 and number3 are equal.\")"
   ]
  },
  {
   "cell_type": "code",
   "execution_count": 173,
   "metadata": {},
   "outputs": [
    {
     "name": "stdout",
     "output_type": "stream",
     "text": [
      "Name1 and name2 are equal.\n"
     ]
    }
   ],
   "source": [
    "#2a\n",
    "if name1 == name2:\n",
    "    print(\"Name1 and name2 are equal.\")"
   ]
  },
  {
   "cell_type": "code",
   "execution_count": 176,
   "metadata": {},
   "outputs": [
    {
     "name": "stdout",
     "output_type": "stream",
     "text": [
      "Name1 and name2 are not equal.\n"
     ]
    }
   ],
   "source": [
    "#2b\n",
    "if name1 != name2:\n",
    "    print(\"Name1 and name2 are not equal.\")"
   ]
  },
  {
   "cell_type": "code",
   "execution_count": 183,
   "metadata": {},
   "outputs": [
    {
     "name": "stdout",
     "output_type": "stream",
     "text": [
      "Name1 and name3 are equal.\n"
     ]
    }
   ],
   "source": [
    "#2c\n",
    "if name1 == name2:\n",
    "    print(\"Name1 and name2 are equal.\")\n",
    "elif name1 == name3:\n",
    "        print(\"Name1 and name3 are equal.\")"
   ]
  }
 ],
 "metadata": {
  "kernelspec": {
   "display_name": "Python (my_venv)",
   "language": "python",
   "name": "my_venv"
  },
  "language_info": {
   "codemirror_mode": {
    "name": "ipython",
    "version": 3
   },
   "file_extension": ".py",
   "mimetype": "text/x-python",
   "name": "python",
   "nbconvert_exporter": "python",
   "pygments_lexer": "ipython3",
   "version": "3.9.6"
  }
 },
 "nbformat": 4,
 "nbformat_minor": 2
}
