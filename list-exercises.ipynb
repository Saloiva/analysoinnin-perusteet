{
 "cells": [
  {
   "cell_type": "code",
   "execution_count": 1,
   "metadata": {},
   "outputs": [],
   "source": [
    "# Excercise 1"
   ]
  },
  {
   "cell_type": "code",
   "execution_count": 2,
   "metadata": {},
   "outputs": [],
   "source": [
    "#1 (Create a list and assign furniture as values)\n",
    "\n",
    "furniture = [\"table\", \"chair\", \"shelf\", \"sofa\", \"bed\"]"
   ]
  },
  {
   "cell_type": "code",
   "execution_count": 3,
   "metadata": {},
   "outputs": [
    {
     "name": "stdout",
     "output_type": "stream",
     "text": [
      "['table', 'chair', 'shelf', 'sofa', 'bed']\n"
     ]
    }
   ],
   "source": [
    "#2 (Print the whole list)\n",
    "\n",
    "print(furniture)"
   ]
  },
  {
   "cell_type": "code",
   "execution_count": 4,
   "metadata": {},
   "outputs": [
    {
     "name": "stdout",
     "output_type": "stream",
     "text": [
      "['table', 'chair']\n"
     ]
    }
   ],
   "source": [
    "#3 (Change the app so that only the first two elements of the list are printed)\n",
    "\n",
    "print(furniture[:2])"
   ]
  },
  {
   "cell_type": "code",
   "execution_count": 5,
   "metadata": {},
   "outputs": [
    {
     "name": "stdout",
     "output_type": "stream",
     "text": [
      "sofa\n"
     ]
    }
   ],
   "source": [
    "#4 (Change the app so that only \"Sofa\" is printed if it is found in the list)\n",
    "\n",
    "if \"sofa\" in furniture:\n",
    "    print(\"sofa\")"
   ]
  },
  {
   "cell_type": "code",
   "execution_count": 6,
   "metadata": {},
   "outputs": [],
   "source": [
    "# Excercise 2"
   ]
  },
  {
   "cell_type": "code",
   "execution_count": 7,
   "metadata": {},
   "outputs": [],
   "source": [
    "#1 (Create a 5-element list. Name it thrownDiceNumbers)\n",
    "\n",
    "thrownDiceNumbers = []"
   ]
  },
  {
   "cell_type": "code",
   "execution_count": 8,
   "metadata": {},
   "outputs": [],
   "source": [
    "#2 (Pick randomly 5 numbers and assign them to the list using randint())\n",
    "\n",
    "import random\n",
    "\n",
    "thrownDiceNumbers = [random.randint(1, 6) for _ in range(5)]"
   ]
  },
  {
   "cell_type": "code",
   "execution_count": 9,
   "metadata": {},
   "outputs": [
    {
     "name": "stdout",
     "output_type": "stream",
     "text": [
      "[6, 1, 4, 5, 5]\n"
     ]
    }
   ],
   "source": [
    "#3 (Print the whole list)\n",
    "\n",
    "print(thrownDiceNumbers)"
   ]
  },
  {
   "cell_type": "code",
   "execution_count": 10,
   "metadata": {},
   "outputs": [
    {
     "name": "stdout",
     "output_type": "stream",
     "text": [
      "21\n"
     ]
    }
   ],
   "source": [
    "#4 (Count the sum of the list values and print the result)\n",
    "\n",
    "print(sum(thrownDiceNumbers))"
   ]
  },
  {
   "cell_type": "code",
   "execution_count": 11,
   "metadata": {},
   "outputs": [
    {
     "name": "stdout",
     "output_type": "stream",
     "text": [
      "6\n"
     ]
    }
   ],
   "source": [
    "#5 (Print the highest value of the list)\n",
    "\n",
    "print(max(thrownDiceNumbers))\n"
   ]
  },
  {
   "cell_type": "code",
   "execution_count": 12,
   "metadata": {},
   "outputs": [
    {
     "name": "stdout",
     "output_type": "stream",
     "text": [
      "[14, 13, 17, 19, 6]\n"
     ]
    }
   ],
   "source": [
    "# Excercise 3\n",
    "\n",
    "import random\n",
    "\n",
    "randomApp = random.sample(range(1, 21), 5)\n",
    "\n",
    "print(randomApp)\n"
   ]
  }
 ],
 "metadata": {
  "kernelspec": {
   "display_name": "Python (my_venv)",
   "language": "python",
   "name": "my_venv"
  },
  "language_info": {
   "codemirror_mode": {
    "name": "ipython",
    "version": 3
   },
   "file_extension": ".py",
   "mimetype": "text/x-python",
   "name": "python",
   "nbconvert_exporter": "python",
   "pygments_lexer": "ipython3",
   "version": "3.9.6"
  }
 },
 "nbformat": 4,
 "nbformat_minor": 2
}
